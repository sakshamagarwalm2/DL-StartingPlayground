{
  "nbformat": 4,
  "nbformat_minor": 0,
  "metadata": {
    "colab": {
      "provenance": []
    },
    "kernelspec": {
      "name": "python3",
      "display_name": "Python 3"
    },
    "language_info": {
      "name": "python"
    }
  },
  "cells": [
    {
      "cell_type": "markdown",
      "source": [
        "#Create Sparse Tensor Using TensorFlow 2.0 Python\n",
        "\n",
        "**What is Sparse Tensor?**\n",
        "\n",
        "Tensor that contain mostly zero values are called sparse tensor.\n",
        "\n",
        "When working with tensors that contain a lot of zero values, it is important to store them in a space- and time-efficient manner. Sparse tensors enable efficient storage and processing of tensors that contain a lot of zero values.\n",
        "Sparse tensors are used extensively in encoding schemes like TF-IDF as part of data pre-processing in NLP applications and for pre-processing images with a lot of dark pixels in computer vision applications.\n",
        "\n",
        "Currently, sparse tensors in TensorFlow are encoded using the coordinate list (COO) format.\n",
        "\n",
        "The COO encoding for sparse tensors is comprised of:\n",
        "\n",
        "1. values: A 1D tensor with shape [N] containing all nonzero values.\n",
        "2. indices: A 2D tensor with shape [N, rank], containing the indices of the nonzero values.\n",
        "3. dense_shape: A 1D tensor with shape [rank], specifying the shape of the tensor.\n",
        "\n",
        "A nonzero value in the context of a tf.SparseTensor is a value that’s not explicitly encoded.\n",
        "\n",
        "**Syntax:**\n",
        "\n",
        "tf.sparse.SparseTensor(indices, values, dense_shape)"
      ],
      "metadata": {
        "id": "5SwU1sGJknnL"
      }
    },
    {
      "cell_type": "code",
      "execution_count": 1,
      "metadata": {
        "id": "ZUDOxIlnbdXe"
      },
      "outputs": [],
      "source": [
        "# Import TensorFlow 2.X\n",
        "import tensorflow as tf"
      ]
    },
    {
      "cell_type": "markdown",
      "source": [
        "# Create TensorFlow Sparse Tensor"
      ],
      "metadata": {
        "id": "oYWqXUVonkL1"
      }
    },
    {
      "cell_type": "code",
      "source": [
        "st1 = tf.SparseTensor(indices=[[0,3], [2,4]], values=[10,20], dense_shape=[3,10])\n",
        "st1"
      ],
      "metadata": {
        "colab": {
          "base_uri": "https://localhost:8080/"
        },
        "id": "JxzIli4fmrk4",
        "outputId": "f141ff34-0f2a-4e64-c7c2-77ac2605571e"
      },
      "execution_count": 2,
      "outputs": [
        {
          "output_type": "execute_result",
          "data": {
            "text/plain": [
              "SparseTensor(indices=tf.Tensor(\n",
              "[[0 3]\n",
              " [2 4]], shape=(2, 2), dtype=int64), values=tf.Tensor([10 20], shape=(2,), dtype=int32), dense_shape=tf.Tensor([ 3 10], shape=(2,), dtype=int64))"
            ]
          },
          "metadata": {},
          "execution_count": 2
        }
      ]
    },
    {
      "cell_type": "markdown",
      "source": [
        "# Create Sparse Tensor From Dense"
      ],
      "metadata": {
        "id": "HoNuM2nPnnk1"
      }
    },
    {
      "cell_type": "code",
      "source": [
        "import numpy as np\n",
        "\n",
        "np_array = np.array([[1,0,0,0],\n",
        "                     [0,0,0,0],\n",
        "                     [0,0,2,0],\n",
        "                     [0,0,0,4]])\n",
        "np_array"
      ],
      "metadata": {
        "colab": {
          "base_uri": "https://localhost:8080/"
        },
        "id": "5S7oQdFrm1cu",
        "outputId": "c9d6c5d9-1486-434f-c9bf-173e6ba08b03"
      },
      "execution_count": 4,
      "outputs": [
        {
          "output_type": "execute_result",
          "data": {
            "text/plain": [
              "array([[1, 0, 0, 0],\n",
              "       [0, 0, 0, 0],\n",
              "       [0, 0, 2, 0],\n",
              "       [0, 0, 0, 4]])"
            ]
          },
          "metadata": {},
          "execution_count": 4
        }
      ]
    },
    {
      "cell_type": "code",
      "source": [
        "st2_fd = tf.sparse.from_dense(np_array)\n",
        "st2_fd"
      ],
      "metadata": {
        "colab": {
          "base_uri": "https://localhost:8080/"
        },
        "id": "0VJTtan_m8gm",
        "outputId": "81a882e1-0664-49c2-be9b-22bea140984d"
      },
      "execution_count": 5,
      "outputs": [
        {
          "output_type": "execute_result",
          "data": {
            "text/plain": [
              "SparseTensor(indices=tf.Tensor(\n",
              "[[0 0]\n",
              " [2 2]\n",
              " [3 3]], shape=(3, 2), dtype=int64), values=tf.Tensor([1 2 4], shape=(3,), dtype=int64), dense_shape=tf.Tensor([4 4], shape=(2,), dtype=int64))"
            ]
          },
          "metadata": {},
          "execution_count": 5
        }
      ]
    },
    {
      "cell_type": "markdown",
      "source": [
        "# Extract the value the of Sparse Tensor"
      ],
      "metadata": {
        "id": "Y7GvttV4nqO4"
      }
    },
    {
      "cell_type": "code",
      "source": [
        "st2_fd.values.numpy().tolist()"
      ],
      "metadata": {
        "colab": {
          "base_uri": "https://localhost:8080/"
        },
        "id": "aRU1O2BGnCe3",
        "outputId": "dce62b7f-cc87-41bb-e74b-9178208e23c7"
      },
      "execution_count": 6,
      "outputs": [
        {
          "output_type": "execute_result",
          "data": {
            "text/plain": [
              "[1, 2, 4]"
            ]
          },
          "metadata": {},
          "execution_count": 6
        }
      ]
    },
    {
      "cell_type": "markdown",
      "source": [
        "# Sparse Tensor to Dense\n",
        "If most of the elements are nonzero, then the tensor is considered dense."
      ],
      "metadata": {
        "id": "JGxacfaunte_"
      }
    },
    {
      "cell_type": "code",
      "source": [
        "dt_fst = tf.sparse.to_dense(st2_fd)\n",
        "dt_fst"
      ],
      "metadata": {
        "colab": {
          "base_uri": "https://localhost:8080/"
        },
        "id": "_FJK3GRfnKq6",
        "outputId": "2b2876c1-b2d5-4b28-ae6d-f8f863097163"
      },
      "execution_count": 7,
      "outputs": [
        {
          "output_type": "execute_result",
          "data": {
            "text/plain": [
              "<tf.Tensor: shape=(4, 4), dtype=int64, numpy=\n",
              "array([[1, 0, 0, 0],\n",
              "       [0, 0, 0, 0],\n",
              "       [0, 0, 2, 0],\n",
              "       [0, 0, 0, 4]])>"
            ]
          },
          "metadata": {},
          "execution_count": 7
        }
      ]
    },
    {
      "cell_type": "code",
      "source": [
        "dt_fst.numpy()"
      ],
      "metadata": {
        "colab": {
          "base_uri": "https://localhost:8080/"
        },
        "id": "5AcwoZPknSN8",
        "outputId": "f1a1363b-66ca-4d29-bd66-fd912817c8d7"
      },
      "execution_count": 8,
      "outputs": [
        {
          "output_type": "execute_result",
          "data": {
            "text/plain": [
              "array([[1, 0, 0, 0],\n",
              "       [0, 0, 0, 0],\n",
              "       [0, 0, 2, 0],\n",
              "       [0, 0, 0, 4]])"
            ]
          },
          "metadata": {},
          "execution_count": 8
        }
      ]
    },
    {
      "cell_type": "markdown",
      "source": [
        "# Mathematical operation on Sparse Tensor"
      ],
      "metadata": {
        "id": "kfHu10VYn47w"
      }
    },
    {
      "cell_type": "code",
      "source": [
        "st_add = tf.sparse.add(st2_fd, st2_fd)\n",
        "st_add"
      ],
      "metadata": {
        "colab": {
          "base_uri": "https://localhost:8080/"
        },
        "id": "X2-DS-REnWlF",
        "outputId": "1141afe1-9329-4313-c2d2-c8c651b4efea"
      },
      "execution_count": 9,
      "outputs": [
        {
          "output_type": "execute_result",
          "data": {
            "text/plain": [
              "SparseTensor(indices=tf.Tensor(\n",
              "[[0 0]\n",
              " [2 2]\n",
              " [3 3]], shape=(3, 2), dtype=int64), values=tf.Tensor([2 4 8], shape=(3,), dtype=int64), dense_shape=tf.Tensor([4 4], shape=(2,), dtype=int64))"
            ]
          },
          "metadata": {},
          "execution_count": 9
        }
      ]
    },
    {
      "cell_type": "code",
      "source": [
        "print(st_add)"
      ],
      "metadata": {
        "colab": {
          "base_uri": "https://localhost:8080/"
        },
        "id": "0fdZ9IUnnaL9",
        "outputId": "e4d380a6-8249-4e73-e2db-269c857e7302"
      },
      "execution_count": 11,
      "outputs": [
        {
          "output_type": "stream",
          "name": "stdout",
          "text": [
            "SparseTensor(indices=tf.Tensor(\n",
            "[[0 0]\n",
            " [2 2]\n",
            " [3 3]], shape=(3, 2), dtype=int64), values=tf.Tensor([2 4 8], shape=(3,), dtype=int64), dense_shape=tf.Tensor([4 4], shape=(2,), dtype=int64))\n"
          ]
        }
      ]
    },
    {
      "cell_type": "code",
      "source": [
        "tf.sparse.to_dense(st_add).numpy()"
      ],
      "metadata": {
        "colab": {
          "base_uri": "https://localhost:8080/"
        },
        "id": "XIUXkCNinf5V",
        "outputId": "cb94ac4b-577a-40df-e3f1-ec0f1f5dc16b"
      },
      "execution_count": 12,
      "outputs": [
        {
          "output_type": "execute_result",
          "data": {
            "text/plain": [
              "array([[2, 0, 0, 0],\n",
              "       [0, 0, 0, 0],\n",
              "       [0, 0, 4, 0],\n",
              "       [0, 0, 0, 8]])"
            ]
          },
          "metadata": {},
          "execution_count": 12
        }
      ]
    }
  ]
}