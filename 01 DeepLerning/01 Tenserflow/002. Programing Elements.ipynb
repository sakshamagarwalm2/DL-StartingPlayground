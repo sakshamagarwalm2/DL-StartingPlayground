{
  "cells": [
    {
      "cell_type": "markdown",
      "metadata": {
        "id": "AaE_NWNDDxxS"
      },
      "source": [
        "#Programing Elements in TensorFlow 2.x\n",
        "\n",
        "1. Constsnt\n",
        "2. Variable\n",
        "3. Placeholder\n",
        "4. Sparse Vector\n",
        "\n",
        "#Create Constant Tensor Using TensorFlow 2.0 Python\n",
        "\n",
        "tf.constant(): Creates a constant tensor from a tensor-like object.\n",
        "\n",
        "Syntax:\n",
        "\n",
        "tf.constant(value, dtype=None, shape=None, name='Const')\n",
        "\n",
        "\n",
        "Args:   \n",
        "value: A constant value (or list) of output type `dtype`.   \n",
        "dtype: The type of the elements of the resulting tensor.   \n",
        "shape: Optional dimensions of resulting tensor.   \n",
        "name: Optional name for the tensor.\n",
        "\n",
        "Returns:   A Constant Tensor.\n",
        "Note:\n",
        "\n",
        "1. tf.Session() not in 2.x\n",
        "\n",
        "2. Most of TensorFlow syntax same like Numpy\n",
        "\n",
        "3. Use: While building neural network graph need constant varibale like input data,\n",
        "it never change while training"
      ]
    },
    {
      "cell_type": "markdown",
      "metadata": {
        "id": "3lGxLWP1EU6p"
      },
      "source": [
        "**Create Constant Tensor in Different Way**"
      ]
    },
    {
      "cell_type": "code",
      "execution_count": 1,
      "metadata": {
        "id": "HrPumq-pEiq3"
      },
      "outputs": [],
      "source": [
        "# Impost TensorFlow\n",
        "import tensorflow as tf"
      ]
    },
    {
      "cell_type": "code",
      "execution_count": 2,
      "metadata": {
        "colab": {
          "base_uri": "https://localhost:8080/",
          "height": 36
        },
        "id": "xNsR4VfAEo4T",
        "outputId": "457d829b-a9d5-4837-c124-46b0593ddf96"
      },
      "outputs": [
        {
          "data": {
            "application/vnd.google.colaboratory.intrinsic+json": {
              "type": "string"
            },
            "text/plain": [
              "'2.15.0'"
            ]
          },
          "execution_count": 2,
          "metadata": {},
          "output_type": "execute_result"
        }
      ],
      "source": [
        "# TensorFlow Version\n",
        "tf.__version__"
      ]
    },
    {
      "cell_type": "code",
      "execution_count": 4,
      "metadata": {
        "colab": {
          "base_uri": "https://localhost:8080/"
        },
        "id": "PyU_QOYNEo1Z",
        "outputId": "cfc17c4e-351c-4d20-cd3f-d53f4e7458b2"
      },
      "outputs": [
        {
          "data": {
            "text/plain": [
              "False"
            ]
          },
          "execution_count": 4,
          "metadata": {},
          "output_type": "execute_result"
        }
      ],
      "source": [
        "# Check GPU availability\n",
        "tf.test.is_gpu_available()"
      ]
    },
    {
      "cell_type": "code",
      "execution_count": 6,
      "metadata": {
        "colab": {
          "base_uri": "https://localhost:8080/"
        },
        "id": "DWoAJpggEoyD",
        "outputId": "d9ab65c9-4ff7-4c55-fd8f-cb6d3b0a05a1"
      },
      "outputs": [
        {
          "data": {
            "text/plain": [
              "<tf.Tensor: shape=(), dtype=int32, numpy=10>"
            ]
          },
          "execution_count": 6,
          "metadata": {},
          "output_type": "execute_result"
        }
      ],
      "source": [
        "# Create Integer Constant\n",
        "\n",
        "a = tf.constant(10)\n",
        "a"
      ]
    },
    {
      "cell_type": "code",
      "execution_count": 7,
      "metadata": {
        "colab": {
          "base_uri": "https://localhost:8080/"
        },
        "id": "iY1xWRGGFZWO",
        "outputId": "54b6159c-1437-422e-fb0c-02b85453f8eb"
      },
      "outputs": [
        {
          "data": {
            "text/plain": [
              "10"
            ]
          },
          "execution_count": 7,
          "metadata": {},
          "output_type": "execute_result"
        }
      ],
      "source": [
        "a.numpy()"
      ]
    },
    {
      "cell_type": "code",
      "execution_count": 8,
      "metadata": {
        "colab": {
          "base_uri": "https://localhost:8080/"
        },
        "id": "BRiVBv-LEoti",
        "outputId": "e1588573-2ced-42ed-8fce-2854a56c6787"
      },
      "outputs": [
        {
          "data": {
            "text/plain": [
              "<tf.Tensor: shape=(), dtype=float32, numpy=10.2>"
            ]
          },
          "execution_count": 8,
          "metadata": {},
          "output_type": "execute_result"
        }
      ],
      "source": [
        "# Create Float Constant\n",
        "b = tf.constant(10.2)\n",
        "b"
      ]
    },
    {
      "cell_type": "code",
      "execution_count": 9,
      "metadata": {
        "colab": {
          "base_uri": "https://localhost:8080/"
        },
        "id": "nGeqyFTsEoql",
        "outputId": "f8bb01a1-0c61-4283-db86-8c11e415866d"
      },
      "outputs": [
        {
          "data": {
            "text/plain": [
              "<tf.Tensor: shape=(), dtype=string, numpy=b'Indian Ai Production'>"
            ]
          },
          "execution_count": 9,
          "metadata": {},
          "output_type": "execute_result"
        }
      ],
      "source": [
        "# Create String Constant\n",
        "c = tf.constant(\"Indian Ai Production\")\n",
        "c"
      ]
    },
    {
      "cell_type": "code",
      "execution_count": 10,
      "metadata": {
        "colab": {
          "base_uri": "https://localhost:8080/"
        },
        "id": "p9ox806gE-ri",
        "outputId": "fc239991-972c-4feb-b598-c98e02d2f247"
      },
      "outputs": [
        {
          "data": {
            "text/plain": [
              "<tf.Tensor: shape=(), dtype=bool, numpy=True>"
            ]
          },
          "execution_count": 10,
          "metadata": {},
          "output_type": "execute_result"
        }
      ],
      "source": [
        "# Creat Bool Constant\n",
        "d = tf.constant(True)\n",
        "d"
      ]
    },
    {
      "cell_type": "code",
      "execution_count": 11,
      "metadata": {
        "colab": {
          "base_uri": "https://localhost:8080/"
        },
        "id": "eIEbL6EZE-iR",
        "outputId": "c2eca168-893a-4b7e-b43d-d5edb157f072"
      },
      "outputs": [
        {
          "data": {
            "text/plain": [
              "<tf.Tensor: shape=(4,), dtype=int64, numpy=array([1, 2, 3, 4])>"
            ]
          },
          "execution_count": 11,
          "metadata": {},
          "output_type": "execute_result"
        }
      ],
      "source": [
        "# Creat Constant Numpy array / List / Tuple\n",
        "import numpy as np\n",
        "np_array = tf.constant(np.array([1,2,3,4]))\n",
        "np_array"
      ]
    },
    {
      "cell_type": "code",
      "execution_count": 12,
      "metadata": {
        "colab": {
          "base_uri": "https://localhost:8080/"
        },
        "id": "bul24roAE-fe",
        "outputId": "87c2e887-4dba-426e-82d5-8f77d82de879"
      },
      "outputs": [
        {
          "data": {
            "text/plain": [
              "<tf.Tensor: shape=(4,), dtype=int32, numpy=array([1, 2, 3, 4], dtype=int32)>"
            ]
          },
          "execution_count": 12,
          "metadata": {},
          "output_type": "execute_result"
        }
      ],
      "source": [
        "# Create 1D constant\n",
        "t_1d = tf.constant([1,2,3,4])\n",
        "t_1d"
      ]
    },
    {
      "cell_type": "code",
      "execution_count": 13,
      "metadata": {
        "colab": {
          "base_uri": "https://localhost:8080/"
        },
        "id": "oTn5o0UNFEhQ",
        "outputId": "b0f2b705-7ce8-4f8c-b4e9-d4a50d6aa947"
      },
      "outputs": [
        {
          "data": {
            "text/plain": [
              "<tf.Tensor: shape=(2, 2), dtype=int32, numpy=\n",
              "array([[1, 2],\n",
              "       [3, 4]], dtype=int32)>"
            ]
          },
          "execution_count": 13,
          "metadata": {},
          "output_type": "execute_result"
        }
      ],
      "source": [
        "# Create 2D constant\n",
        "t_2d = tf.constant([[1,2],[3,4]])\n",
        "t_2d\n"
      ]
    },
    {
      "cell_type": "code",
      "execution_count": 14,
      "metadata": {
        "colab": {
          "base_uri": "https://localhost:8080/"
        },
        "id": "GLEDWJP9FEdu",
        "outputId": "a53253d6-4492-4318-875b-8efcabe2e6c4"
      },
      "outputs": [
        {
          "data": {
            "text/plain": [
              "3"
            ]
          },
          "execution_count": 14,
          "metadata": {},
          "output_type": "execute_result"
        }
      ],
      "source": [
        "# Access constant value\n",
        "t_1d.numpy()\n",
        "\n",
        "t_1d.numpy()[2]"
      ]
    }
  ],
  "metadata": {
    "colab": {
      "provenance": []
    },
    "kernelspec": {
      "display_name": "Python 3",
      "name": "python3"
    },
    "language_info": {
      "name": "python"
    }
  },
  "nbformat": 4,
  "nbformat_minor": 0
}
