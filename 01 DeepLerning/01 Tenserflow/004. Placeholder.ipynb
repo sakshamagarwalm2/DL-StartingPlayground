{
  "nbformat": 4,
  "nbformat_minor": 0,
  "metadata": {
    "colab": {
      "provenance": []
    },
    "kernelspec": {
      "name": "python3",
      "display_name": "Python 3"
    },
    "language_info": {
      "name": "python"
    }
  },
  "cells": [
    {
      "cell_type": "markdown",
      "source": [
        "#Create TensorFlow Placeholder Using TensorFlow 2.X Python\n",
        "\n",
        "A TensorFlow placeholder is simply a variable that we will assign data to at a later date. It allows us to create our operations and build our computation graph, without needing the data.\n",
        "\n",
        "**Syntax:**\n",
        "\n",
        "tf.compat.v1.placeholder(dtype, shape=None, name=None)\n",
        "\n"
      ],
      "metadata": {
        "id": "kF2ZY05gaRqq"
      }
    },
    {
      "cell_type": "code",
      "execution_count": 1,
      "metadata": {
        "id": "Zp5Bw1-5LWIl"
      },
      "outputs": [],
      "source": [
        "# import Tensorflow 2\n",
        "import tensorflow as tf"
      ]
    },
    {
      "cell_type": "markdown",
      "source": [
        "**placeholders are not executable immediately so we need to disable eager exicution in TF 2 not in 1**"
      ],
      "metadata": {
        "id": "uEv_0n4xamPd"
      }
    },
    {
      "cell_type": "code",
      "source": [
        "tf.compat.v1.disable_eager_execution()"
      ],
      "metadata": {
        "id": "eZwJmlcHaiTA"
      },
      "execution_count": 2,
      "outputs": []
    },
    {
      "cell_type": "code",
      "source": [
        "# Create Placeholder\n",
        "a = tf.compat.v1.placeholder(dtype=tf.float32, shape=(400,400))\n",
        "a"
      ],
      "metadata": {
        "colab": {
          "base_uri": "https://localhost:8080/"
        },
        "id": "1nRFdqVGauvv",
        "outputId": "a96a9bd0-8348-4c7f-e10b-632ead1ef2f6"
      },
      "execution_count": 3,
      "outputs": [
        {
          "output_type": "execute_result",
          "data": {
            "text/plain": [
              "<tf.Tensor 'Placeholder:0' shape=(400, 400) dtype=float32>"
            ]
          },
          "metadata": {},
          "execution_count": 3
        }
      ]
    },
    {
      "cell_type": "code",
      "source": [
        "b = tf.compat.v1.placeholder(dtype=tf.float32, shape=(400,400))\n",
        "b"
      ],
      "metadata": {
        "colab": {
          "base_uri": "https://localhost:8080/"
        },
        "id": "pXYpyz2fax28",
        "outputId": "94ffc1f0-01f1-4c57-e35c-cb4c8a9846d1"
      },
      "execution_count": 4,
      "outputs": [
        {
          "output_type": "execute_result",
          "data": {
            "text/plain": [
              "<tf.Tensor 'Placeholder_1:0' shape=(400, 400) dtype=float32>"
            ]
          },
          "metadata": {},
          "execution_count": 4
        }
      ]
    },
    {
      "cell_type": "markdown",
      "source": [
        "**Perform mathematical operation with placeholder**"
      ],
      "metadata": {
        "id": "BKmFeTz5a6ox"
      }
    },
    {
      "cell_type": "code",
      "source": [
        "c = tf.add(a, b)\n",
        "c"
      ],
      "metadata": {
        "colab": {
          "base_uri": "https://localhost:8080/"
        },
        "id": "lHMaLPuoa1g2",
        "outputId": "769ce8ea-2d3d-406e-efbc-c994f2fe3a92"
      },
      "execution_count": 5,
      "outputs": [
        {
          "output_type": "execute_result",
          "data": {
            "text/plain": [
              "<tf.Tensor 'Add:0' shape=(400, 400) dtype=float32>"
            ]
          },
          "metadata": {},
          "execution_count": 5
        }
      ]
    },
    {
      "cell_type": "code",
      "source": [
        "# Create Numpy Array to feed data\n",
        "import numpy as np\n",
        "ones_array = np.ones((400,400), np.float32)\n",
        "ones_array"
      ],
      "metadata": {
        "colab": {
          "base_uri": "https://localhost:8080/"
        },
        "id": "J7xhy-cra_JR",
        "outputId": "35d3de60-9318-4cd2-95be-889c2c3ab40c"
      },
      "execution_count": 6,
      "outputs": [
        {
          "output_type": "execute_result",
          "data": {
            "text/plain": [
              "array([[1., 1., 1., ..., 1., 1., 1.],\n",
              "       [1., 1., 1., ..., 1., 1., 1.],\n",
              "       [1., 1., 1., ..., 1., 1., 1.],\n",
              "       ...,\n",
              "       [1., 1., 1., ..., 1., 1., 1.],\n",
              "       [1., 1., 1., ..., 1., 1., 1.],\n",
              "       [1., 1., 1., ..., 1., 1., 1.]], dtype=float32)"
            ]
          },
          "metadata": {},
          "execution_count": 6
        }
      ]
    },
    {
      "cell_type": "markdown",
      "source": [
        "# Execute Tensorflow Placeholder using session"
      ],
      "metadata": {
        "id": "oxtolvbvbJDO"
      }
    },
    {
      "cell_type": "code",
      "source": [
        "with tf.compat.v1.Session() as sess:\n",
        "    d = sess.run(c, feed_dict={a:ones_array, b:ones_array})\n",
        "d"
      ],
      "metadata": {
        "colab": {
          "base_uri": "https://localhost:8080/"
        },
        "id": "lXjLtph6bDVY",
        "outputId": "48dc6a4a-1c44-4ee2-ac5a-e5cecee19922"
      },
      "execution_count": 7,
      "outputs": [
        {
          "output_type": "execute_result",
          "data": {
            "text/plain": [
              "array([[2., 2., 2., ..., 2., 2., 2.],\n",
              "       [2., 2., 2., ..., 2., 2., 2.],\n",
              "       [2., 2., 2., ..., 2., 2., 2.],\n",
              "       ...,\n",
              "       [2., 2., 2., ..., 2., 2., 2.],\n",
              "       [2., 2., 2., ..., 2., 2., 2.],\n",
              "       [2., 2., 2., ..., 2., 2., 2.]], dtype=float32)"
            ]
          },
          "metadata": {},
          "execution_count": 7
        }
      ]
    },
    {
      "cell_type": "code",
      "source": [
        "# type of variable\n",
        "type(d)"
      ],
      "metadata": {
        "colab": {
          "base_uri": "https://localhost:8080/"
        },
        "id": "pnqRt2XfbMxI",
        "outputId": "005617c4-7e8d-414f-f06e-2d63ccf42f12"
      },
      "execution_count": 8,
      "outputs": [
        {
          "output_type": "execute_result",
          "data": {
            "text/plain": [
              "numpy.ndarray"
            ]
          },
          "metadata": {},
          "execution_count": 8
        }
      ]
    }
  ]
}