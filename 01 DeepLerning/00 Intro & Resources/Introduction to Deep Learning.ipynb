{
  "nbformat": 4,
  "nbformat_minor": 0,
  "metadata": {
    "colab": {
      "provenance": []
    },
    "kernelspec": {
      "name": "python3",
      "display_name": "Python 3"
    },
    "language_info": {
      "name": "python"
    }
  },
  "cells": [
    {
      "cell_type": "markdown",
      "source": [
        "#Introduction to Deep Learning\n",
        "**What is a neural network?**\n",
        "\n",
        "It is a powerful learning algorithm inspired by how the brain works.\n",
        "\n",
        "**Deep Lerning:**\n",
        "\n",
        "A neural network is a machine learning program, or model, that makes decisions in a manner similar to the human brain, by using processes that mimic the way biological neurons work together to identify phenomena, weigh options and arrive at conclusions.\n",
        "\n",
        "**How do neural networks work?**\n",
        "\n",
        "Think of each individual node as its own linear regression model, composed of input data, weights, a bias (or threshold), and an output. The formula would look something like this:\n",
        "\n",
        "∑wixi + bias = w1x1 + w2x2 + w3x3 + bias\n",
        "\n",
        "output = f(x) = 1 if ∑w1x1 + b>= 0; 0 if ∑w1x1 + b < 0\n",
        "\n",
        "Once an input layer is determined, weights are assigned. These weights help determine the importance of any given variable, with larger ones contributing more significantly to the output compared to other inputs. All inputs are then multiplied by their respective weights and then summed. Afterward, the output is passed through an activation function, which determines the output. If that output exceeds a given threshold, it “fires” (or activates) the node, passing data to the next layer in the network. This results in the output of one node becoming in the input of the next node. This process of passing data from one layer to the next layer defines this neural network as a feedforward network.\n",
        "\n",
        "Let’s break down what one single node might look like using binary values. We can apply this concept to a more tangible example, like whether you should go surfing (Yes: 1, No: 0). The decision to go or not to go is our predicted outcome, or y-hat. Let’s assume that there are three factors influencing your decision-making:\n",
        "\n",
        "Are the waves good? (Yes: 1, No: 0)\n",
        "Is the line-up empty? (Yes: 1, No: 0)\n",
        "Has there been a recent shark attack? (Yes: 0, No: 1)\n",
        "Then, let’s assume the following, giving us the following inputs:\n",
        "\n",
        "X1 = 1, since the waves are pumping\n",
        "X2 = 0, since the crowds are out\n",
        "X3 = 1, since there hasn’t been a recent shark attack\n",
        "Now, we need to assign some weights to determine importance. Larger weights signify that particular variables are of greater importance to the decision or outcome.\n",
        "\n",
        "W1 = 5, since large swells don’t come around often\n",
        "W2 = 2, since you’re used to the crowds\n",
        "W3 = 4, since you have a fear of sharks\n",
        "Finally, we’ll also assume a threshold value of 3, which would translate to a bias value of –3. With all the various inputs, we can start to plug in values into the formula to get the desired output.\n",
        "\n",
        "Y-hat = (1*5) + (0*2) + (1*4) – 3 = 6\n",
        "\n",
        "If we use the activation function from the beginning of this section, we can determine that the output of this node would be 1, since 6 is greater than 0. In this instance, you would go surfing; but if we adjust the weights or the threshold, we can achieve different outcomes from the model. When we observe one decision, like in the above example, we can see how a neural network could make increasingly complex decisions depending on the output of previous decisions or layers.\n",
        "\n",
        "In the example above, we used perceptrons to illustrate some of the mathematics at play here, but neural networks leverage sigmoid neurons, which are distinguished by having values between 0 and 1. Since neural networks behave similarly to decision trees, cascading data from one node to another, having x values between 0 and 1 will reduce the impact of any given change of a single variable on the output of any given node, and subsequently, the output of the neural network.\n",
        "\n",
        "As we start to think about more practical use cases for neural networks, like image recognition or classification, we’ll leverage supervised learning, or labeled datasets, to train the algorithm. As we train the model, we’ll want to evaluate its accuracy using a cost (or loss) function. This is also commonly referred to as the mean squared error (MSE). In the equation below,\n",
        "\n",
        "i represents the index of the sample,\n",
        "y-hat is the predicted outcome,\n",
        "y is the actual value, and\n",
        "m is the number of samples.\n"
      ],
      "metadata": {
        "id": "qOuS8f5ZTDIm"
      }
    }
  ]
}