{
  "nbformat": 4,
  "nbformat_minor": 0,
  "metadata": {
    "colab": {
      "provenance": []
    },
    "kernelspec": {
      "name": "python3",
      "display_name": "Python 3"
    },
    "language_info": {
      "name": "python"
    }
  },
  "cells": [
    {
      "cell_type": "markdown",
      "source": [
        "#How To Create Variable In TensorFlow 2.X\n",
        "\n",
        "The **Variable()** **constructor** requires an initial value for the variable, which can be a Tensor of any type and shape. This initial value defines the type and shape of the variable. After construction, the type and shape of the variable are fixed. The value can be changed using one of the assign methods.\n",
        "\n",
        "***Syntax:***\n",
        "\n",
        "tf.Variable(\n",
        "initial_value=None, trainable=None, validate_shape=True, caching_device=None, name=None, variable_def=None, dtype=None, import_scope=None, constraint=None, synchronization=tf.VariableSynchronization.AUTO, aggregation=tf.compat.v1.VariableAggregation.NONE, shape=None)\n",
        "\n"
      ],
      "metadata": {
        "id": "tThyCh-AF4f5"
      }
    },
    {
      "cell_type": "code",
      "source": [
        "#Import TensorFlow\n",
        "import tensorflow as tf"
      ],
      "metadata": {
        "id": "Y4nbeeOtJjCR"
      },
      "execution_count": 1,
      "outputs": []
    },
    {
      "cell_type": "code",
      "source": [
        "# # Create Tensor\n",
        "tf.Variable(1)\n",
        "\n",
        "a = tf.Variable([1,2,3,4])\n",
        "a"
      ],
      "metadata": {
        "colab": {
          "base_uri": "https://localhost:8080/"
        },
        "id": "zzyd9fq3Ji_z",
        "outputId": "26c5e3ce-90be-4c01-f5c6-f27b2abaaee3"
      },
      "execution_count": 2,
      "outputs": [
        {
          "output_type": "execute_result",
          "data": {
            "text/plain": [
              "<tf.Variable 'Variable:0' shape=(4,) dtype=int32, numpy=array([1, 2, 3, 4], dtype=int32)>"
            ]
          },
          "metadata": {},
          "execution_count": 2
        }
      ]
    },
    {
      "cell_type": "code",
      "source": [
        "#Get Variable Name, Shape, Data Type & convert into NumpyArray\n",
        "a.name"
      ],
      "metadata": {
        "colab": {
          "base_uri": "https://localhost:8080/",
          "height": 36
        },
        "id": "JU-Vnp-zJi9F",
        "outputId": "70ac37ab-ac7b-47f8-99e9-29d46d3102e0"
      },
      "execution_count": 3,
      "outputs": [
        {
          "output_type": "execute_result",
          "data": {
            "text/plain": [
              "'Variable:0'"
            ],
            "application/vnd.google.colaboratory.intrinsic+json": {
              "type": "string"
            }
          },
          "metadata": {},
          "execution_count": 3
        }
      ]
    },
    {
      "cell_type": "code",
      "source": [
        "a.shape"
      ],
      "metadata": {
        "colab": {
          "base_uri": "https://localhost:8080/"
        },
        "id": "edgTtvFOJi6S",
        "outputId": "a8f310bf-15d7-4b7f-d744-d4df6d2aaa07"
      },
      "execution_count": 4,
      "outputs": [
        {
          "output_type": "execute_result",
          "data": {
            "text/plain": [
              "TensorShape([4])"
            ]
          },
          "metadata": {},
          "execution_count": 4
        }
      ]
    },
    {
      "cell_type": "code",
      "source": [
        "a.dtype"
      ],
      "metadata": {
        "colab": {
          "base_uri": "https://localhost:8080/"
        },
        "id": "e_BSbamCJi3f",
        "outputId": "0d5874d5-ab18-4460-86f9-f6b5b563ce22"
      },
      "execution_count": 5,
      "outputs": [
        {
          "output_type": "execute_result",
          "data": {
            "text/plain": [
              "tf.int32"
            ]
          },
          "metadata": {},
          "execution_count": 5
        }
      ]
    },
    {
      "cell_type": "code",
      "source": [
        "a.numpy()"
      ],
      "metadata": {
        "colab": {
          "base_uri": "https://localhost:8080/"
        },
        "id": "tOCmQi7nJi0p",
        "outputId": "ae00ddce-bade-4b55-a262-4b69285cd0b7"
      },
      "execution_count": 6,
      "outputs": [
        {
          "output_type": "execute_result",
          "data": {
            "text/plain": [
              "array([1, 2, 3, 4], dtype=int32)"
            ]
          },
          "metadata": {},
          "execution_count": 6
        }
      ]
    },
    {
      "cell_type": "code",
      "source": [
        "type(a)"
      ],
      "metadata": {
        "colab": {
          "base_uri": "https://localhost:8080/",
          "height": 186
        },
        "id": "TDjE5mwsJiyT",
        "outputId": "1917d63b-244d-495a-b314-571436d7507a"
      },
      "execution_count": 7,
      "outputs": [
        {
          "output_type": "execute_result",
          "data": {
            "text/plain": [
              "tensorflow.python.ops.resource_variable_ops.ResourceVariable"
            ],
            "text/html": [
              "<div style=\"max-width:800px; border: 1px solid var(--colab-border-color);\"><style>\n",
              "      pre.function-repr-contents {\n",
              "        overflow-x: auto;\n",
              "        padding: 8px 12px;\n",
              "        max-height: 500px;\n",
              "      }\n",
              "\n",
              "      pre.function-repr-contents.function-repr-contents-collapsed {\n",
              "        cursor: pointer;\n",
              "        max-height: 100px;\n",
              "      }\n",
              "    </style>\n",
              "    <pre style=\"white-space: initial; background:\n",
              "         var(--colab-secondary-surface-color); padding: 8px 12px;\n",
              "         border-bottom: 1px solid var(--colab-border-color);\"><b>tensorflow.python.ops.resource_variable_ops.ResourceVariable</b><br/>def error_handler(*args, **kwargs)</pre><pre class=\"function-repr-contents function-repr-contents-collapsed\" style=\"\"><a class=\"filepath\" style=\"display:none\" href=\"#\">/usr/local/lib/python3.10/dist-packages/tensorflow/python/ops/resource_variable_ops.py</a>Variable based on resource handles.\n",
              "\n",
              "See the [Variables How To](https://tensorflow.org/guide/variables)\n",
              "for a high level overview.\n",
              "\n",
              "A `ResourceVariable` allows you to maintain state across subsequent calls to\n",
              "session.run.\n",
              "\n",
              "The `ResourceVariable` constructor requires an initial value for the variable,\n",
              "which can be a `Tensor` of any type and shape. The initial value defines the\n",
              "type and shape of the variable. After construction, the type and shape of\n",
              "the variable are fixed. The value can be changed using one of the assign\n",
              "methods.\n",
              "\n",
              "Just like any `Tensor`, variables created with\n",
              "`tf.Variable(use_resource=True)` can be used as inputs for other Ops in the\n",
              "graph. Additionally, all the operators overloaded for the `Tensor` class are\n",
              "carried over to variables, so you can also add nodes to the graph by just\n",
              "doing arithmetic on variables.\n",
              "\n",
              "Unlike ref-based variable, a ResourceVariable has well-defined semantics. Each\n",
              "usage of a ResourceVariable in a TensorFlow graph adds a read_value operation\n",
              "to the graph. The Tensors returned by a read_value operation are guaranteed to\n",
              "see all modifications to the value of the variable which happen in any\n",
              "operation on which the read_value depends on (either directly, indirectly, or\n",
              "via a control dependency) and guaranteed to not see any modification to the\n",
              "value of the variable from operations that depend on the read_value operation.\n",
              "Updates from operations that have no dependency relationship to the read_value\n",
              "operation might or might not be visible to read_value.\n",
              "\n",
              "For example, if there is more than one assignment to a ResourceVariable in\n",
              "a single session.run call there is a well-defined value for each operation\n",
              "which uses the variable&#x27;s value if the assignments and the read are connected\n",
              "by edges in the graph. Consider the following example, in which two writes\n",
              "can cause tf.Variable and tf.ResourceVariable to behave differently:\n",
              "\n",
              "```python\n",
              "a = tf.Variable(1.0, use_resource=True)\n",
              "a.initializer.run()\n",
              "\n",
              "assign = a.assign(2.0)\n",
              "with tf.control_dependencies([assign]):\n",
              "  b = a.read_value()\n",
              "with tf.control_dependencies([b]):\n",
              "  other_assign = a.assign(3.0)\n",
              "with tf.control_dependencies([other_assign]):\n",
              "  # Will print 2.0 because the value was read before other_assign ran. If\n",
              "  # `a` was a tf.Variable instead, 2.0 or 3.0 could be printed.\n",
              "  tf.compat.v1.Print(b, [b]).eval()\n",
              "```</pre>\n",
              "      <script>\n",
              "      if (google.colab.kernel.accessAllowed && google.colab.files && google.colab.files.view) {\n",
              "        for (const element of document.querySelectorAll('.filepath')) {\n",
              "          element.style.display = 'block'\n",
              "          element.onclick = (event) => {\n",
              "            event.preventDefault();\n",
              "            event.stopPropagation();\n",
              "            google.colab.files.view(element.textContent, 1665);\n",
              "          };\n",
              "        }\n",
              "      }\n",
              "      for (const element of document.querySelectorAll('.function-repr-contents')) {\n",
              "        element.onclick = (event) => {\n",
              "          event.preventDefault();\n",
              "          event.stopPropagation();\n",
              "          element.classList.toggle('function-repr-contents-collapsed');\n",
              "        };\n",
              "      }\n",
              "      </script>\n",
              "      </div>"
            ]
          },
          "metadata": {},
          "execution_count": 7
        }
      ]
    },
    {
      "cell_type": "code",
      "source": [
        "# Create TF using Integer, Float, String, Bool, Complex Number\n",
        "t_f = tf.Variable([1.2,4.4,5,6])\n",
        "t_f"
      ],
      "metadata": {
        "colab": {
          "base_uri": "https://localhost:8080/"
        },
        "id": "UntqkcDWJitC",
        "outputId": "a41203fe-6ddd-4ab9-9101-6e93def1138c"
      },
      "execution_count": 8,
      "outputs": [
        {
          "output_type": "execute_result",
          "data": {
            "text/plain": [
              "<tf.Variable 'Variable:0' shape=(4,) dtype=float32, numpy=array([1.2, 4.4, 5. , 6. ], dtype=float32)>"
            ]
          },
          "metadata": {},
          "execution_count": 8
        }
      ]
    },
    {
      "cell_type": "code",
      "source": [
        "t_s = tf.Variable(['a','b','c','d'])\n",
        "\n",
        "t_b = tf.Variable([True, False])\n",
        "\n",
        "t_cx = tf.Variable([3 + 4j])"
      ],
      "metadata": {
        "id": "poCVXT8AJiqt"
      },
      "execution_count": 9,
      "outputs": []
    },
    {
      "cell_type": "code",
      "source": [
        "# Create TF from Constant TensorFlow Variable\n",
        "t_con = tf.constant([1,2,3,4])\n",
        "t_con\n",
        "\n",
        "tf.Variable(t_con)"
      ],
      "metadata": {
        "colab": {
          "base_uri": "https://localhost:8080/"
        },
        "id": "_BLUvGRtJin5",
        "outputId": "1acc61c4-1786-41ed-e8a8-1a0ed1234ea7"
      },
      "execution_count": 10,
      "outputs": [
        {
          "output_type": "execute_result",
          "data": {
            "text/plain": [
              "<tf.Variable 'Variable:0' shape=(4,) dtype=int32, numpy=array([1, 2, 3, 4], dtype=int32)>"
            ]
          },
          "metadata": {},
          "execution_count": 10
        }
      ]
    },
    {
      "cell_type": "code",
      "source": [
        " # Create TF Variable with different shape\n",
        "t_2d = tf.Variable([[2,3], [4,5]])\n",
        "t_2d"
      ],
      "metadata": {
        "colab": {
          "base_uri": "https://localhost:8080/"
        },
        "id": "t6lTFBA0JilE",
        "outputId": "a0ef297d-d7ca-47d9-f50e-8cdfbf981817"
      },
      "execution_count": 11,
      "outputs": [
        {
          "output_type": "execute_result",
          "data": {
            "text/plain": [
              "<tf.Variable 'Variable:0' shape=(2, 2) dtype=int32, numpy=\n",
              "array([[2, 3],\n",
              "       [4, 5]], dtype=int32)>"
            ]
          },
          "metadata": {},
          "execution_count": 11
        }
      ]
    },
    {
      "cell_type": "code",
      "source": [
        "t_2d_2 = tf.Variable([[2,3], [4,5]], shape=(2,2), dtype='float32')\n",
        "t_2d_2"
      ],
      "metadata": {
        "colab": {
          "base_uri": "https://localhost:8080/"
        },
        "id": "h_VwGy6sJiiX",
        "outputId": "cc975c9b-5d56-4bb6-d586-779726b92b51"
      },
      "execution_count": 12,
      "outputs": [
        {
          "output_type": "execute_result",
          "data": {
            "text/plain": [
              "<tf.Variable 'Variable:0' shape=(2, 2) dtype=float32, numpy=\n",
              "array([[2., 3.],\n",
              "       [4., 5.]], dtype=float32)>"
            ]
          },
          "metadata": {},
          "execution_count": 12
        }
      ]
    },
    {
      "cell_type": "code",
      "source": [
        "a\n",
        "\n",
        "tf.reshape(a, (2,2))"
      ],
      "metadata": {
        "colab": {
          "base_uri": "https://localhost:8080/"
        },
        "id": "U_K4SK15KfGS",
        "outputId": "ead8b5b1-3b6f-4fc9-bc9a-ae57ba127a00"
      },
      "execution_count": 13,
      "outputs": [
        {
          "output_type": "execute_result",
          "data": {
            "text/plain": [
              "<tf.Tensor: shape=(2, 2), dtype=int32, numpy=\n",
              "array([[1, 2],\n",
              "       [3, 4]], dtype=int32)>"
            ]
          },
          "metadata": {},
          "execution_count": 13
        }
      ]
    },
    {
      "cell_type": "code",
      "source": [
        "# Get Index of highest value\n",
        "t_2d_2\n",
        "\n",
        "tf.argmax(t_2d_2)"
      ],
      "metadata": {
        "colab": {
          "base_uri": "https://localhost:8080/"
        },
        "id": "uBatvmeTKfDY",
        "outputId": "66bb3758-93c1-4712-e1a2-46370357f422"
      },
      "execution_count": 14,
      "outputs": [
        {
          "output_type": "execute_result",
          "data": {
            "text/plain": [
              "<tf.Tensor: shape=(2,), dtype=int64, numpy=array([1, 1])>"
            ]
          },
          "metadata": {},
          "execution_count": 14
        }
      ]
    },
    {
      "cell_type": "code",
      "source": [
        "# Viewed/convert as a tensor\n",
        "a\n",
        "\n",
        "tf.convert_to_tensor(a)"
      ],
      "metadata": {
        "colab": {
          "base_uri": "https://localhost:8080/"
        },
        "id": "mDXQ9sF9KfAx",
        "outputId": "78c6fe31-0099-460f-8775-51b20825472f"
      },
      "execution_count": 15,
      "outputs": [
        {
          "output_type": "execute_result",
          "data": {
            "text/plain": [
              "<tf.Tensor: shape=(4,), dtype=int32, numpy=array([1, 2, 3, 4], dtype=int32)>"
            ]
          },
          "metadata": {},
          "execution_count": 15
        }
      ]
    },
    {
      "cell_type": "code",
      "source": [
        "# Change/Assign new value to tensor\n",
        "a.assign([4,6,2,8])\n",
        "a"
      ],
      "metadata": {
        "colab": {
          "base_uri": "https://localhost:8080/"
        },
        "id": "YBAk0L6UKe-U",
        "outputId": "68bb0f11-4df7-4217-c11c-dda092717b75"
      },
      "execution_count": 16,
      "outputs": [
        {
          "output_type": "execute_result",
          "data": {
            "text/plain": [
              "<tf.Variable 'Variable:0' shape=(4,) dtype=int32, numpy=array([4, 6, 2, 8], dtype=int32)>"
            ]
          },
          "metadata": {},
          "execution_count": 16
        }
      ]
    },
    {
      "cell_type": "markdown",
      "source": [
        "**Assign Variable with anothe memory**\n",
        "\n",
        "\n",
        "If you use a variable like a tensor in operations, you will usually operate on the backing tensor.\n",
        "\n",
        "Creating new variables from existing variables duplicates the backing tensors. Two variables will not share the same memory."
      ],
      "metadata": {
        "id": "mKhM3DaQK4r9"
      }
    },
    {
      "cell_type": "code",
      "source": [
        "a.assign_add([4,6,2,8])"
      ],
      "metadata": {
        "colab": {
          "base_uri": "https://localhost:8080/"
        },
        "id": "GsUvkzQuKe7o",
        "outputId": "7d2f3c7b-1f79-4161-b4dd-776c703288da"
      },
      "execution_count": 17,
      "outputs": [
        {
          "output_type": "execute_result",
          "data": {
            "text/plain": [
              "<tf.Variable 'UnreadVariable' shape=(4,) dtype=int32, numpy=array([ 8, 12,  4, 16], dtype=int32)>"
            ]
          },
          "metadata": {},
          "execution_count": 17
        }
      ]
    }
  ]
}