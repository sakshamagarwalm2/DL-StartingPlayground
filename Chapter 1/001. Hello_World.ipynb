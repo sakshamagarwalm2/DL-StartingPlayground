{
  "cells": [
    {
      "cell_type": "markdown",
      "metadata": {
        "id": "h1jQd-KIWH6v"
      },
      "source": [
        "#Hello World\n",
        "Our first example is a simple program that combines the words “Hello” and “ World!”\n",
        "and displays the output—the phrase “Hello World!” While simple and straightfor‐\n",
        "ward, this example introduces many of the core elements of TensorFlow and the ways\n",
        "in which it is different from a regular Python program."
      ]
    },
    {
      "cell_type": "markdown",
      "metadata": {
        "id": "Ml7EjfjHWVhE"
      },
      "source": [
        "**we run a simple install and version check**"
      ]
    },
    {
      "cell_type": "code",
      "execution_count": 12,
      "metadata": {
        "colab": {
          "base_uri": "https://localhost:8080/"
        },
        "id": "pJzvLel9WUsV",
        "outputId": "c16e54c2-5c6d-48c8-bd85-933ce4495dc2"
      },
      "outputs": [
        {
          "name": "stdout",
          "output_type": "stream",
          "text": [
            "2.15.0\n"
          ]
        }
      ],
      "source": [
        "import tensorflow as tf\n",
        "print(tf.__version__)"
      ]
    },
    {
      "cell_type": "markdown",
      "metadata": {
        "id": "FBuDhyiWYAbj"
      },
      "source": [
        "**“Hello world” with TensorFlow**"
      ]
    },
    {
      "cell_type": "markdown",
      "metadata": {
        "id": "5yDZ1eq6bkT7"
      },
      "source": [
        "The key idea behind compu‐\n",
        "tation graphs in TensorFlow is that we first define what computations should take\n",
        "place, and then trigger the computation in an external mechanism."
      ]
    },
    {
      "cell_type": "code",
      "execution_count": 13,
      "metadata": {
        "colab": {
          "base_uri": "https://localhost:8080/"
        },
        "id": "bDLDwoqsVrsI",
        "outputId": "e70ab364-7654-4ab1-85d3-ed7864a81d54"
      },
      "outputs": [
        {
          "data": {
            "text/plain": [
              "<tf.Tensor: shape=(), dtype=string, numpy=b'hello world'>"
            ]
          },
          "execution_count": 13,
          "metadata": {},
          "output_type": "execute_result"
        }
      ],
      "source": [
        "h = tf.constant(\"hello \")\n",
        "w = tf.constant(\"world\")\n",
        "hw=h+w\n",
        "hw"
      ]
    },
    {
      "cell_type": "markdown",
      "metadata": {
        "id": "iacKpyNKblhB"
      },
      "source": [
        " using numpy to actually computes hw (as the sum of h and w, the way it was defined previously), following which the printing of ans displays the expected “Hello World!” message."
      ]
    },
    {
      "cell_type": "code",
      "execution_count": 14,
      "metadata": {
        "colab": {
          "base_uri": "https://localhost:8080/"
        },
        "id": "peu6oNX3aTZs",
        "outputId": "338e44ea-5cfe-40ae-8f4d-6304ee2cc3c1"
      },
      "outputs": [
        {
          "data": {
            "text/plain": [
              "b'hello world'"
            ]
          },
          "execution_count": 14,
          "metadata": {},
          "output_type": "execute_result"
        }
      ],
      "source": [
        "hw= hw.numpy()\n",
        "hw"
      ]
    }
  ],
  "metadata": {
    "colab": {
      "provenance": []
    },
    "kernelspec": {
      "display_name": "Python 3",
      "name": "python3"
    },
    "language_info": {
      "name": "python"
    }
  },
  "nbformat": 4,
  "nbformat_minor": 0
}
