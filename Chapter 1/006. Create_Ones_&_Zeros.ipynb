{
  "nbformat": 4,
  "nbformat_minor": 0,
  "metadata": {
    "colab": {
      "provenance": []
    },
    "kernelspec": {
      "name": "python3",
      "display_name": "Python 3"
    },
    "language_info": {
      "name": "python"
    }
  },
  "cells": [
    {
      "cell_type": "markdown",
      "source": [
        "#Create Ones & Zeros\n",
        "\n",
        "In TensorFlow 2.0, we can create Ones Tensor(every element in tensor are ones) in different ways using tf.ones() and tf.ones_like() and tf.ones_initializer()and we can create Zeros Tensor(every element in tensor are zeros) in different ways using tf.zeros() and tf.zeros_like() and tf.zeros_initializer().\n",
        "\n",
        "```\n",
        "# This is formatted as code\n",
        "```\n",
        "\n"
      ],
      "metadata": {
        "id": "5NpCMxHfgSzQ"
      }
    },
    {
      "cell_type": "markdown",
      "source": [
        "#Create Ones Tesnor using tf.ones()\n",
        "\n",
        "Creates a tensor with all elements set to one (1)\n",
        "\n",
        "Syntax:\n",
        "\n",
        "tf.ones(shape, dtype=tf.dtypes.float32, name=None) -> Return Ones Tensor\n"
      ],
      "metadata": {
        "id": "XoKxaaiOggOW"
      }
    },
    {
      "cell_type": "code",
      "execution_count": 1,
      "metadata": {
        "colab": {
          "base_uri": "https://localhost:8080/"
        },
        "id": "uQ16FIwff8TZ",
        "outputId": "d4254bf1-5ff4-42c9-fd69-2f4d22a2a7d7"
      },
      "outputs": [
        {
          "output_type": "execute_result",
          "data": {
            "text/plain": [
              "<tf.Tensor: shape=(2, 2), dtype=float32, numpy=\n",
              "array([[1., 1.],\n",
              "       [1., 1.]], dtype=float32)>"
            ]
          },
          "metadata": {},
          "execution_count": 1
        }
      ],
      "source": [
        "# Import TensorFlow 2\n",
        "import tensorflow as tf\n",
        "\n",
        "# create ones tensor\n",
        "ones_2dt = tf.ones((2,2), tf.float32)\n",
        "ones_2dt"
      ]
    },
    {
      "cell_type": "markdown",
      "source": [
        "#Create Ones Tesnor using tf.ones_like()\n",
        "Creates a tensor of all ones that has the same shape as the input\n",
        "\n",
        "Syntax:\n",
        "\n",
        "tf.ones_like(input, dtype=None, name=None) -> Return Ones Tensor\n"
      ],
      "metadata": {
        "id": "wAP-OaHYgyva"
      }
    },
    {
      "cell_type": "code",
      "source": [
        "# create ones tensor from input\n",
        "\n",
        "cont_2dt = tf.constant([[1,2,3],[4,5,6]])\n",
        "cont_2dt\n",
        "\n",
        "ones_2dt_from_cont = tf.ones_like(cont_2dt, tf.float32)\n",
        "ones_2dt_from_cont"
      ],
      "metadata": {
        "colab": {
          "base_uri": "https://localhost:8080/"
        },
        "id": "y2Bf6u35gvDs",
        "outputId": "3fe37ddb-3653-43de-c8e0-c11e2b371578"
      },
      "execution_count": 2,
      "outputs": [
        {
          "output_type": "execute_result",
          "data": {
            "text/plain": [
              "<tf.Tensor: shape=(2, 3), dtype=float32, numpy=\n",
              "array([[1., 1., 1.],\n",
              "       [1., 1., 1.]], dtype=float32)>"
            ]
          },
          "metadata": {},
          "execution_count": 2
        }
      ]
    },
    {
      "cell_type": "markdown",
      "source": [
        "#Create Ones Tesnor using tf.ones_initializer() Initializer that generates tensors initialized to 1.\n",
        "\n",
        "Initializers allow you to pre-specify an initialization strategy, encoded in the Initializer object, without knowing the shape and dtype of the variable being initialized.\n",
        "\n"
      ],
      "metadata": {
        "id": "Ovp-L-nshAvN"
      }
    },
    {
      "cell_type": "code",
      "source": [
        "# create ones tensor TensorFlow variable from the input\n",
        "\n",
        "def ones_variable(shape, dtype, initializer):\n",
        "    return tf.Variable(initializer(shape=shape, dtype=dtype))\n",
        "\n",
        "ones_variable((2,2), tf.float32,  tf.ones_initializer())\n",
        "\n",
        "ones_variable((2,3,5), tf.int32,  tf.ones_initializer())"
      ],
      "metadata": {
        "colab": {
          "base_uri": "https://localhost:8080/"
        },
        "id": "pYhC0R9Rg9TZ",
        "outputId": "03bc9144-c667-4213-80a9-d2a229c147e5"
      },
      "execution_count": 3,
      "outputs": [
        {
          "output_type": "execute_result",
          "data": {
            "text/plain": [
              "<tf.Variable 'Variable:0' shape=(2, 3, 5) dtype=int32, numpy=\n",
              "array([[[1, 1, 1, 1, 1],\n",
              "        [1, 1, 1, 1, 1],\n",
              "        [1, 1, 1, 1, 1]],\n",
              "\n",
              "       [[1, 1, 1, 1, 1],\n",
              "        [1, 1, 1, 1, 1],\n",
              "        [1, 1, 1, 1, 1]]], dtype=int32)>"
            ]
          },
          "metadata": {},
          "execution_count": 3
        }
      ]
    },
    {
      "cell_type": "markdown",
      "source": [
        "#Create Zeros Tesnor using tf.zeros()\n",
        "Creates a tensor with all elements set to zero (0)"
      ],
      "metadata": {
        "id": "Uz7YKTdPhb2-"
      }
    },
    {
      "cell_type": "code",
      "source": [
        "# Creates a tensor with all elements set to zero.\n",
        "zeros_2dt = tf.zeros((2,2), dtype=tf.int32)\n",
        "zeros_2dt\n",
        "\n",
        "zeros_3dt = tf.zeros((2,2,4), dtype=tf.int8)\n",
        "zeros_3dt\n",
        "\n",
        "zeros_3dt.shape\n",
        "\n",
        "zeros_3dt.dtype\n",
        "\n",
        "zeros_3dt.numpy()\n",
        "\n",
        "zeros_3dt.numpy().tolist()"
      ],
      "metadata": {
        "colab": {
          "base_uri": "https://localhost:8080/"
        },
        "id": "zrgXojKghJIU",
        "outputId": "cc9a3c2c-90cb-421e-c8e0-c44fd714d8d3"
      },
      "execution_count": 4,
      "outputs": [
        {
          "output_type": "execute_result",
          "data": {
            "text/plain": [
              "[[[0, 0, 0, 0], [0, 0, 0, 0]], [[0, 0, 0, 0], [0, 0, 0, 0]]]"
            ]
          },
          "metadata": {},
          "execution_count": 4
        }
      ]
    },
    {
      "cell_type": "markdown",
      "source": [
        "#Create Zeros Tesnor using tf.zeros_like()\n",
        "Creates a tensor with all elements set to zero."
      ],
      "metadata": {
        "id": "ElRRD7T1hmcG"
      }
    },
    {
      "cell_type": "code",
      "source": [
        "# Creates a tensor with all elements set to zero.\n",
        "\n",
        "cont_2dt = tf.constant([[1,2,3],[4,5,6]])\n",
        "cont_2dt\n",
        "\n",
        "zl_2dt_from_cont = tf.zeros_like(cont_2dt)\n",
        "zl_2dt_from_cont\n",
        "\n",
        "var_2dt = tf.Variable([[1,2,3],[4,5,6]])\n",
        "var_2dt\n",
        "\n",
        "zl_2dt_from_var = tf.zeros_like(var_2dt, dtype=tf.bool)\n",
        "zl_2dt_from_var"
      ],
      "metadata": {
        "colab": {
          "base_uri": "https://localhost:8080/"
        },
        "id": "Gnv6bF5Uhjp-",
        "outputId": "fc9f2ff3-299d-4fc9-ecf1-ebca454068e9"
      },
      "execution_count": 5,
      "outputs": [
        {
          "output_type": "execute_result",
          "data": {
            "text/plain": [
              "<tf.Tensor: shape=(2, 3), dtype=bool, numpy=\n",
              "array([[False, False, False],\n",
              "       [False, False, False]])>"
            ]
          },
          "metadata": {},
          "execution_count": 5
        }
      ]
    },
    {
      "cell_type": "markdown",
      "source": [
        "#Create Zeros Tesnor using tf.zeros_initializer() Initializer that generates tensors initialized to 0.\n",
        "\n",
        "Initializers allow you to pre-specify an initialization strategy, encoded in the Initializer object, without knowing the shape and dtype of the variable being initialized."
      ],
      "metadata": {
        "id": "Nu_fNcL3hvYh"
      }
    },
    {
      "cell_type": "code",
      "source": [
        "def zeros_variable(shape, dtype, initializer):\n",
        "    return tf.Variable(initializer(shape=shape, dtype=dtype))\n",
        "\n",
        "zi_t_var= zeros_variable((2,2), tf.float32, tf.zeros_initializer())\n",
        "zi_t_var\n",
        "\n",
        "zeros_variable((3,2,5), tf.bool, tf.zeros_initializer())\n",
        "\n",
        "tf.Variable(tf.zeros_initializer()((2,2), tf.float32))"
      ],
      "metadata": {
        "colab": {
          "base_uri": "https://localhost:8080/"
        },
        "id": "N-XHm2Xyhsoo",
        "outputId": "2a4eab07-cb56-4491-e169-6a7aa19c7cb4"
      },
      "execution_count": 6,
      "outputs": [
        {
          "output_type": "execute_result",
          "data": {
            "text/plain": [
              "<tf.Variable 'Variable:0' shape=(2, 2) dtype=float32, numpy=\n",
              "array([[0., 0.],\n",
              "       [0., 0.]], dtype=float32)>"
            ]
          },
          "metadata": {},
          "execution_count": 6
        }
      ]
    }
  ]
}